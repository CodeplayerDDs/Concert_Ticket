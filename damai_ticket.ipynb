{
 "cells": [
  {
   "cell_type": "code",
   "execution_count": 1,
   "metadata": {},
   "outputs": [
    {
     "name": "stdout",
     "output_type": "stream",
     "text": [
      "###打开浏览器，进入大麦网###\n",
      "###开始登录###\n",
      "###载入Cookie###\n"
     ]
    }
   ],
   "source": [
    "from selenium.webdriver.common.action_chains import ActionChains\n",
    "from selenium import webdriver\n",
    "from time import sleep\n",
    "import re\n",
    "from tkinter import *\n",
    "import time\n",
    "import pickle\n",
    "import os\n",
    "from selenium.webdriver.common.by import By\n",
    "from selenium.webdriver.support.ui import WebDriverWait\n",
    "from selenium.webdriver.support import expected_conditions as EC\n",
    "\n",
    "damai_url=\"https://www.damai.cn/\"\n",
    "login_url=\"https://passport.damai.cn/login?ru=https%3A%2F%2Fwww.damai.cn%2F\"\n",
    "\n",
    "name='周杰伦'#歌星\n",
    "date=[1]#日期序号优先级，比如，如果第二个时间可行，就选第二个，不然就选其他,最终只选一个\n",
    "price=[1]#票价序号优先级,道理同上\n",
    "place=[1]#地点\n",
    "status=0#状态,表示如今进行到何种程度\n",
    "login_method=1#{0:模拟登录,1:Cookie登录}自行选择登录方式\n",
    "real_name=[1]#实名者序号\n",
    "with open('./user_info.txt','r', encoding='utf-8') as f:#读入用户名与密码和昵称\n",
    "    uid=f.readline().strip('\\n').strip('\\r\\n').strip()\n",
    "    upw=f.readline().strip('\\n').strip('\\r\\n').strip()\n",
    "    usr_name=f.readline().strip('\\n').strip('\\r\\n').strip()\n",
    "\n",
    "print('###打开浏览器，进入大麦网###')\n",
    "driver=webdriver.Firefox()#默认火狐浏览器\n",
    "driver.maximize_window()\n",
    "    \n",
    "driver.get(damai_url)#载入登录界面\n",
    "print('###开始登录###') \n",
    "cookies = pickle.load(open(\"cookies.pkl\", \"rb\"))#载入cookie\n",
    "for cookie in cookies:\n",
    "    cookie_dict = {\n",
    "        'domain':'.damai.cn',#必须有，不然就是假登录\n",
    "        'name': cookie.get('name'),\n",
    "        'value': cookie.get('value'),\n",
    "        \"expires\": \"\",\n",
    "        'path': '/',\n",
    "        'httpOnly': False,\n",
    "        'HostOnly': False,\n",
    "        'Secure': False}\n",
    "    driver.add_cookie(cookie_dict)\n",
    "print('###载入Cookie###')\n",
    "    \n",
    "driver.refresh()"
   ]
  },
  {
   "cell_type": "code",
   "execution_count": 2,
   "metadata": {},
   "outputs": [],
   "source": [
    "# item = driver.find_element_by_xpath('//div[@class=\"name-user\"]')\n",
    "item = driver.find_element_by_class_name('name-user')\n",
    "\n",
    "driver.find_elements_by_xpath('//input[@data-spm=\"dsearchbtn\"]')[0].send_keys(name)#搜索栏输入歌星\n",
    "driver.find_elements_by_xpath('//div[@data-spm=\"dsearchbtn2\"]')[0].click()#点击搜索\n"
   ]
  },
  {
   "cell_type": "code",
   "execution_count": 8,
   "metadata": {},
   "outputs": [],
   "source": [
    "element = WebDriverWait(driver, 3).until(EC.presence_of_element_located((By.CLASS_NAME, 'item__box')))\n",
    "kinds=element.find_elements_by_class_name('items')#选择演唱会类别\n",
    "\n",
    "for k in kinds:\n",
    "    if k.find_element_by_class_name('items__img__tag').text=='演唱会':\n",
    "        k.find_element_by_class_name('items__img').click()\n",
    "        break"
   ]
  }
 ],
 "metadata": {
  "kernelspec": {
   "display_name": "Python 3",
   "language": "python",
   "name": "python3"
  },
  "language_info": {
   "codemirror_mode": {
    "name": "ipython",
    "version": 3
   },
   "file_extension": ".py",
   "mimetype": "text/x-python",
   "name": "python",
   "nbconvert_exporter": "python",
   "pygments_lexer": "ipython3",
   "version": "3.5.6"
  }
 },
 "nbformat": 4,
 "nbformat_minor": 2
}
